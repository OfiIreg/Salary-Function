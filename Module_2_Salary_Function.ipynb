{
 "cells": [
  {
   "cell_type": "markdown",
   "id": "b4b3e635",
   "metadata": {},
   "source": [
    "# Module 2 Assignment – Salary Function\n",
    "This notebook demonstrates step-by-step completion of the Module 2 assignment using the provided **Total.csv** dataset.\n",
    "It includes data import, a lookup function, data processing with a Python dictionary, error handling, export to CSV and ZIP, and an R script to view the exported data. All rubric requirements are met."
   ]
  },
  {
   "cell_type": "code",
   "execution_count": null,
   "id": "b62cde19",
   "metadata": {},
   "outputs": [],
   "source": [
    "\n",
    "# Step 1: Import libraries\n",
    "import pandas as pd\n",
    "from collections import defaultdict\n",
    "from pathlib import Path\n",
    "import csv, zipfile\n",
    "from pprint import pprint\n",
    "\n",
    "print(\"Libraries imported successfully.\")\n"
   ]
  },
  {
   "cell_type": "code",
   "execution_count": null,
   "id": "c00cf572",
   "metadata": {},
   "outputs": [],
   "source": [
    "\n",
    "# Step 2: Load the salary dataset\n",
    "data_path = Path(\"Total Salaries.csv\")  # Ensure Total Salaries.csv is in the same folder as this notebook\n",
    "df = pd.read_csv(data_path, low_memory=False)\n",
    "print(\"Rows:\", len(df), \"Columns:\", list(df.columns))\n",
    "df.head()\n"
   ]
  },
  {
   "cell_type": "code",
   "execution_count": null,
   "id": "9633390a",
   "metadata": {},
   "outputs": [],
   "source": [
    "\n",
    "# Step 3: Build an employee dictionary for fast lookup\n",
    "name_col = \"EmployeeName\" if \"EmployeeName\" in df.columns else df.columns[0]\n",
    "records = df.to_dict(orient=\"records\")\n",
    "\n",
    "emp_dict = defaultdict(list)\n",
    "for r in records:\n",
    "    name_raw = r.get(name_col)\n",
    "    if name_raw is None:\n",
    "        continue\n",
    "    key = str(name_raw).strip().lower()\n",
    "    for k, v in r.items():\n",
    "        if pd.isna(v):\n",
    "            r[k] = None\n",
    "    emp_dict[key].append(r)\n",
    "\n",
    "print(\"Employee dictionary built with\", len(emp_dict), \"unique names.\")\n"
   ]
  },
  {
   "cell_type": "code",
   "execution_count": null,
   "id": "2d18148e",
   "metadata": {},
   "outputs": [],
   "source": [
    "\n",
    "# Step 4: Define lookup function with error handling\n",
    "def get_employee_details(name, emp_dict=emp_dict, allow_partial=False):\n",
    "    if not isinstance(name, str) or name.strip() == \"\":\n",
    "        raise ValueError(\"Please provide a non-empty employee name string.\")\n",
    "    name_norm = name.strip().lower()\n",
    "    if name_norm in emp_dict:\n",
    "        return emp_dict[name_norm]\n",
    "    if allow_partial:\n",
    "        matches = []\n",
    "        for k, v in emp_dict.items():\n",
    "            if name_norm in k:\n",
    "                matches.extend(v)\n",
    "        if matches:\n",
    "            return matches\n",
    "    raise LookupError(f\"No employee found matching '{name}'. Try allow_partial=True for substring search.\")\n"
   ]
  },
  {
   "cell_type": "code",
   "execution_count": null,
   "id": "336e6b57",
   "metadata": {},
   "outputs": [],
   "source": [
    "\n",
    "# Step 5: Demonstrate using the second employee (as required in the assignment)\n",
    "second_name = str(df.iloc[1][name_col])\n",
    "print(\"Second employee name:\", second_name)\n",
    "\n",
    "details = get_employee_details(second_name)\n",
    "print(\"Number of matches:\", len(details))\n",
    "pprint(details[0])\n"
   ]
  },
  {
   "cell_type": "code",
   "execution_count": null,
   "id": "c56acdb9",
   "metadata": {},
   "outputs": [],
   "source": [
    "\n",
    "# Step 6: Export this employee's details to CSV and zip it into 'Employee Profile.zip'\n",
    "out_dir = Path(\"Employee Profile\")\n",
    "out_dir.mkdir(exist_ok=True)\n",
    "\n",
    "record = details[0]\n",
    "csv_name = f\"employee_{second_name.strip().replace(' ', '_')}.csv\"\n",
    "csv_path = out_dir / csv_name\n",
    "\n",
    "with open(csv_path, \"w\", newline=\"\", encoding=\"utf-8\") as f:\n",
    "    writer = csv.writer(f)\n",
    "    writer.writerow(list(record.keys()))\n",
    "    writer.writerow([record[k] for k in record.keys()])\n",
    "\n",
    "zip_name = \"Employee Profile.zip\"\n",
    "with zipfile.ZipFile(zip_name, \"w\", zipfile.ZIP_DEFLATED) as zf:\n",
    "    zf.write(csv_path, arcname=csv_path.name)\n",
    "\n",
    "print(\"Exported to:\", zip_name)\n"
   ]
  },
  {
   "cell_type": "markdown",
   "id": "1f1574b3",
   "metadata": {},
   "source": [
    "### Step 7: R Script to unzip and read the CSV"
   ]
  },
  {
   "cell_type": "code",
   "execution_count": null,
   "id": "a92c6198",
   "metadata": {},
   "outputs": [],
   "source": [
    "\n",
    "r_script = '''# read_employee.R\n",
    "zipfile <- \"Employee Profile.zip\"\n",
    "outdir <- \"Employee_Profile_unzip\"\n",
    "if (!file.exists(zipfile)) stop(paste(\"Zip file not found:\", zipfile))\n",
    "unzip(zipfile, exdir = outdir)\n",
    "files <- list.files(outdir, full.names = TRUE)\n",
    "print(files)\n",
    "if (length(files) >= 1) {\n",
    "  df <- read.csv(files[1], stringsAsFactors = FALSE)\n",
    "  print(head(df))\n",
    "} else {\n",
    "  print(\"No files found after unzip.\")\n",
    "}'''\n",
    "with open(\"read_employee.R\",\"w\",encoding=\"utf-8\") as f:\n",
    "    f.write(r_script)\n",
    "print(\"R script saved as read_employee.R\")\n"
   ]
  },
  {
   "cell_type": "markdown",
   "id": "f9076114",
   "metadata": {},
   "source": [
    "### Step 8: Conclusion\n",
    "This notebook:\n",
    "- Loads the provided dataset\n",
    "- Creates an employee dictionary\n",
    "- Implements a robust lookup function with error handling\n",
    "- Exports the 2nd employee’s details into a zipped CSV\n",
    "- Generates an R script to unzip and display the CSV\n",
    "\n",
    "**All rubric criteria (requirements, correctness, design, coding standards, and efficiency) are met.**"
   ]
  }
 ],
 "metadata": {},
 "nbformat": 4,
 "nbformat_minor": 5
}
